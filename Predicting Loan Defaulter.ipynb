{
 "cells": [
  {
   "cell_type": "code",
   "execution_count": 1,
   "id": "df852235",
   "metadata": {},
   "outputs": [],
   "source": [
    "import numpy as np\n",
    "import pandas as pd\n",
    "import seaborn as sns\n",
    "import matplotlib.pyplot as plt\n",
    "%matplotlib inline"
   ]
  },
  {
   "cell_type": "code",
   "execution_count": 2,
   "id": "9bc43c45",
   "metadata": {},
   "outputs": [],
   "source": [
    "data=pd.read_csv(r\"C:\\Users\\admin\\OneDrive\\Desktop\\train.csv\")"
   ]
  },
  {
   "cell_type": "code",
   "execution_count": 3,
   "id": "4221d2f8",
   "metadata": {},
   "outputs": [
    {
     "name": "stdout",
     "output_type": "stream",
     "text": [
      "   id  Gender  Age  Driving_License  Region_Code  Previously_Insured  \\\n",
      "0   1    Male   44                1           28                   0   \n",
      "1   2    Male   76                1            3                   0   \n",
      "2   3    Male   47                1           28                   0   \n",
      "3   4    Male   21                1           11                   1   \n",
      "4   5  Female   29                1           41                   1   \n",
      "\n",
      "  Vehicle_Age Vehicle_Damage  Annual_Premium  Policy_Sales_Channel  Vintage  \\\n",
      "0   > 2 Years            Yes           40454                    26      217   \n",
      "1    1-2 Year             No           33536                    26      183   \n",
      "2   > 2 Years            Yes           38294                    26       27   \n",
      "3    < 1 Year             No           28619                   152      203   \n",
      "4    < 1 Year             No           27496                   152       39   \n",
      "\n",
      "   Response  \n",
      "0         1  \n",
      "1         0  \n",
      "2         1  \n",
      "3         0  \n",
      "4         0  \n"
     ]
    }
   ],
   "source": [
    "print(data.head())"
   ]
  },
  {
   "cell_type": "code",
   "execution_count": 4,
   "id": "14d31804",
   "metadata": {},
   "outputs": [
    {
     "data": {
      "text/plain": [
       "(381109, 12)"
      ]
     },
     "execution_count": 4,
     "metadata": {},
     "output_type": "execute_result"
    }
   ],
   "source": [
    "data.shape"
   ]
  },
  {
   "cell_type": "code",
   "execution_count": 5,
   "id": "ca467f27",
   "metadata": {},
   "outputs": [
    {
     "name": "stdout",
     "output_type": "stream",
     "text": [
      "<class 'pandas.core.frame.DataFrame'>\n",
      "RangeIndex: 381109 entries, 0 to 381108\n",
      "Data columns (total 12 columns):\n",
      " #   Column                Non-Null Count   Dtype \n",
      "---  ------                --------------   ----- \n",
      " 0   id                    381109 non-null  int64 \n",
      " 1   Gender                381109 non-null  object\n",
      " 2   Age                   381109 non-null  int64 \n",
      " 3   Driving_License       381109 non-null  int64 \n",
      " 4   Region_Code           381109 non-null  int64 \n",
      " 5   Previously_Insured    381109 non-null  int64 \n",
      " 6   Vehicle_Age           381109 non-null  object\n",
      " 7   Vehicle_Damage        381109 non-null  object\n",
      " 8   Annual_Premium        381109 non-null  int64 \n",
      " 9   Policy_Sales_Channel  381109 non-null  int64 \n",
      " 10  Vintage               381109 non-null  int64 \n",
      " 11  Response              381109 non-null  int64 \n",
      "dtypes: int64(9), object(3)\n",
      "memory usage: 34.9+ MB\n"
     ]
    }
   ],
   "source": [
    "data.info()"
   ]
  },
  {
   "cell_type": "code",
   "execution_count": 6,
   "id": "36a7c00e",
   "metadata": {},
   "outputs": [
    {
     "data": {
      "text/html": [
       "<div>\n",
       "<style scoped>\n",
       "    .dataframe tbody tr th:only-of-type {\n",
       "        vertical-align: middle;\n",
       "    }\n",
       "\n",
       "    .dataframe tbody tr th {\n",
       "        vertical-align: top;\n",
       "    }\n",
       "\n",
       "    .dataframe thead th {\n",
       "        text-align: right;\n",
       "    }\n",
       "</style>\n",
       "<table border=\"1\" class=\"dataframe\">\n",
       "  <thead>\n",
       "    <tr style=\"text-align: right;\">\n",
       "      <th></th>\n",
       "      <th>id</th>\n",
       "      <th>Age</th>\n",
       "      <th>Driving_License</th>\n",
       "      <th>Region_Code</th>\n",
       "      <th>Previously_Insured</th>\n",
       "      <th>Annual_Premium</th>\n",
       "      <th>Policy_Sales_Channel</th>\n",
       "      <th>Vintage</th>\n",
       "      <th>Response</th>\n",
       "    </tr>\n",
       "  </thead>\n",
       "  <tbody>\n",
       "    <tr>\n",
       "      <th>count</th>\n",
       "      <td>381109.000000</td>\n",
       "      <td>381109.000000</td>\n",
       "      <td>381109.000000</td>\n",
       "      <td>381109.000000</td>\n",
       "      <td>381109.000000</td>\n",
       "      <td>381109.000000</td>\n",
       "      <td>381109.000000</td>\n",
       "      <td>381109.000000</td>\n",
       "      <td>381109.000000</td>\n",
       "    </tr>\n",
       "    <tr>\n",
       "      <th>mean</th>\n",
       "      <td>190555.000000</td>\n",
       "      <td>38.822584</td>\n",
       "      <td>0.997869</td>\n",
       "      <td>26.388807</td>\n",
       "      <td>0.458210</td>\n",
       "      <td>30564.389581</td>\n",
       "      <td>112.034295</td>\n",
       "      <td>154.347397</td>\n",
       "      <td>0.122563</td>\n",
       "    </tr>\n",
       "    <tr>\n",
       "      <th>std</th>\n",
       "      <td>110016.836208</td>\n",
       "      <td>15.511611</td>\n",
       "      <td>0.046110</td>\n",
       "      <td>13.229888</td>\n",
       "      <td>0.498251</td>\n",
       "      <td>17213.155057</td>\n",
       "      <td>54.203995</td>\n",
       "      <td>83.671304</td>\n",
       "      <td>0.327936</td>\n",
       "    </tr>\n",
       "    <tr>\n",
       "      <th>min</th>\n",
       "      <td>1.000000</td>\n",
       "      <td>20.000000</td>\n",
       "      <td>0.000000</td>\n",
       "      <td>0.000000</td>\n",
       "      <td>0.000000</td>\n",
       "      <td>2630.000000</td>\n",
       "      <td>1.000000</td>\n",
       "      <td>10.000000</td>\n",
       "      <td>0.000000</td>\n",
       "    </tr>\n",
       "    <tr>\n",
       "      <th>25%</th>\n",
       "      <td>95278.000000</td>\n",
       "      <td>25.000000</td>\n",
       "      <td>1.000000</td>\n",
       "      <td>15.000000</td>\n",
       "      <td>0.000000</td>\n",
       "      <td>24405.000000</td>\n",
       "      <td>29.000000</td>\n",
       "      <td>82.000000</td>\n",
       "      <td>0.000000</td>\n",
       "    </tr>\n",
       "    <tr>\n",
       "      <th>50%</th>\n",
       "      <td>190555.000000</td>\n",
       "      <td>36.000000</td>\n",
       "      <td>1.000000</td>\n",
       "      <td>28.000000</td>\n",
       "      <td>0.000000</td>\n",
       "      <td>31669.000000</td>\n",
       "      <td>133.000000</td>\n",
       "      <td>154.000000</td>\n",
       "      <td>0.000000</td>\n",
       "    </tr>\n",
       "    <tr>\n",
       "      <th>75%</th>\n",
       "      <td>285832.000000</td>\n",
       "      <td>49.000000</td>\n",
       "      <td>1.000000</td>\n",
       "      <td>35.000000</td>\n",
       "      <td>1.000000</td>\n",
       "      <td>39400.000000</td>\n",
       "      <td>152.000000</td>\n",
       "      <td>227.000000</td>\n",
       "      <td>0.000000</td>\n",
       "    </tr>\n",
       "    <tr>\n",
       "      <th>max</th>\n",
       "      <td>381109.000000</td>\n",
       "      <td>85.000000</td>\n",
       "      <td>1.000000</td>\n",
       "      <td>52.000000</td>\n",
       "      <td>1.000000</td>\n",
       "      <td>540165.000000</td>\n",
       "      <td>163.000000</td>\n",
       "      <td>299.000000</td>\n",
       "      <td>1.000000</td>\n",
       "    </tr>\n",
       "  </tbody>\n",
       "</table>\n",
       "</div>"
      ],
      "text/plain": [
       "                  id            Age  Driving_License    Region_Code  \\\n",
       "count  381109.000000  381109.000000    381109.000000  381109.000000   \n",
       "mean   190555.000000      38.822584         0.997869      26.388807   \n",
       "std    110016.836208      15.511611         0.046110      13.229888   \n",
       "min         1.000000      20.000000         0.000000       0.000000   \n",
       "25%     95278.000000      25.000000         1.000000      15.000000   \n",
       "50%    190555.000000      36.000000         1.000000      28.000000   \n",
       "75%    285832.000000      49.000000         1.000000      35.000000   \n",
       "max    381109.000000      85.000000         1.000000      52.000000   \n",
       "\n",
       "       Previously_Insured  Annual_Premium  Policy_Sales_Channel  \\\n",
       "count       381109.000000   381109.000000         381109.000000   \n",
       "mean             0.458210    30564.389581            112.034295   \n",
       "std              0.498251    17213.155057             54.203995   \n",
       "min              0.000000     2630.000000              1.000000   \n",
       "25%              0.000000    24405.000000             29.000000   \n",
       "50%              0.000000    31669.000000            133.000000   \n",
       "75%              1.000000    39400.000000            152.000000   \n",
       "max              1.000000   540165.000000            163.000000   \n",
       "\n",
       "             Vintage       Response  \n",
       "count  381109.000000  381109.000000  \n",
       "mean      154.347397       0.122563  \n",
       "std        83.671304       0.327936  \n",
       "min        10.000000       0.000000  \n",
       "25%        82.000000       0.000000  \n",
       "50%       154.000000       0.000000  \n",
       "75%       227.000000       0.000000  \n",
       "max       299.000000       1.000000  "
      ]
     },
     "execution_count": 6,
     "metadata": {},
     "output_type": "execute_result"
    }
   ],
   "source": [
    "data.describe()"
   ]
  },
  {
   "cell_type": "code",
   "execution_count": 7,
   "id": "57b15ae1",
   "metadata": {},
   "outputs": [
    {
     "data": {
      "text/html": [
       "<div>\n",
       "<style scoped>\n",
       "    .dataframe tbody tr th:only-of-type {\n",
       "        vertical-align: middle;\n",
       "    }\n",
       "\n",
       "    .dataframe tbody tr th {\n",
       "        vertical-align: top;\n",
       "    }\n",
       "\n",
       "    .dataframe thead th {\n",
       "        text-align: right;\n",
       "    }\n",
       "</style>\n",
       "<table border=\"1\" class=\"dataframe\">\n",
       "  <thead>\n",
       "    <tr style=\"text-align: right;\">\n",
       "      <th></th>\n",
       "      <th>id</th>\n",
       "      <th>Gender</th>\n",
       "      <th>Age</th>\n",
       "      <th>Driving_License</th>\n",
       "      <th>Region_Code</th>\n",
       "      <th>Previously_Insured</th>\n",
       "      <th>Vehicle_Age</th>\n",
       "      <th>Vehicle_Damage</th>\n",
       "      <th>Annual_Premium</th>\n",
       "      <th>Policy_Sales_Channel</th>\n",
       "      <th>Vintage</th>\n",
       "      <th>Response</th>\n",
       "    </tr>\n",
       "  </thead>\n",
       "  <tbody>\n",
       "    <tr>\n",
       "      <th>0</th>\n",
       "      <td>1</td>\n",
       "      <td>Male</td>\n",
       "      <td>44</td>\n",
       "      <td>1</td>\n",
       "      <td>28</td>\n",
       "      <td>0</td>\n",
       "      <td>&gt; 2 Years</td>\n",
       "      <td>Yes</td>\n",
       "      <td>40454</td>\n",
       "      <td>26</td>\n",
       "      <td>217</td>\n",
       "      <td>1</td>\n",
       "    </tr>\n",
       "    <tr>\n",
       "      <th>1</th>\n",
       "      <td>2</td>\n",
       "      <td>Male</td>\n",
       "      <td>76</td>\n",
       "      <td>1</td>\n",
       "      <td>3</td>\n",
       "      <td>0</td>\n",
       "      <td>1-2 Year</td>\n",
       "      <td>No</td>\n",
       "      <td>33536</td>\n",
       "      <td>26</td>\n",
       "      <td>183</td>\n",
       "      <td>0</td>\n",
       "    </tr>\n",
       "    <tr>\n",
       "      <th>2</th>\n",
       "      <td>3</td>\n",
       "      <td>Male</td>\n",
       "      <td>47</td>\n",
       "      <td>1</td>\n",
       "      <td>28</td>\n",
       "      <td>0</td>\n",
       "      <td>&gt; 2 Years</td>\n",
       "      <td>Yes</td>\n",
       "      <td>38294</td>\n",
       "      <td>26</td>\n",
       "      <td>27</td>\n",
       "      <td>1</td>\n",
       "    </tr>\n",
       "    <tr>\n",
       "      <th>3</th>\n",
       "      <td>4</td>\n",
       "      <td>Male</td>\n",
       "      <td>21</td>\n",
       "      <td>1</td>\n",
       "      <td>11</td>\n",
       "      <td>1</td>\n",
       "      <td>&lt; 1 Year</td>\n",
       "      <td>No</td>\n",
       "      <td>28619</td>\n",
       "      <td>152</td>\n",
       "      <td>203</td>\n",
       "      <td>0</td>\n",
       "    </tr>\n",
       "    <tr>\n",
       "      <th>4</th>\n",
       "      <td>5</td>\n",
       "      <td>Female</td>\n",
       "      <td>29</td>\n",
       "      <td>1</td>\n",
       "      <td>41</td>\n",
       "      <td>1</td>\n",
       "      <td>&lt; 1 Year</td>\n",
       "      <td>No</td>\n",
       "      <td>27496</td>\n",
       "      <td>152</td>\n",
       "      <td>39</td>\n",
       "      <td>0</td>\n",
       "    </tr>\n",
       "  </tbody>\n",
       "</table>\n",
       "</div>"
      ],
      "text/plain": [
       "   id  Gender  Age  Driving_License  Region_Code  Previously_Insured  \\\n",
       "0   1    Male   44                1           28                   0   \n",
       "1   2    Male   76                1            3                   0   \n",
       "2   3    Male   47                1           28                   0   \n",
       "3   4    Male   21                1           11                   1   \n",
       "4   5  Female   29                1           41                   1   \n",
       "\n",
       "  Vehicle_Age Vehicle_Damage  Annual_Premium  Policy_Sales_Channel  Vintage  \\\n",
       "0   > 2 Years            Yes           40454                    26      217   \n",
       "1    1-2 Year             No           33536                    26      183   \n",
       "2   > 2 Years            Yes           38294                    26       27   \n",
       "3    < 1 Year             No           28619                   152      203   \n",
       "4    < 1 Year             No           27496                   152       39   \n",
       "\n",
       "   Response  \n",
       "0         1  \n",
       "1         0  \n",
       "2         1  \n",
       "3         0  \n",
       "4         0  "
      ]
     },
     "execution_count": 7,
     "metadata": {},
     "output_type": "execute_result"
    }
   ],
   "source": [
    "## How many have defaulted on loan\n",
    "data.head()"
   ]
  },
  {
   "cell_type": "code",
   "execution_count": 8,
   "id": "81e7e22f",
   "metadata": {},
   "outputs": [
    {
     "ename": "AttributeError",
     "evalue": "'DataFrame' object has no attribute 'Risk_Flag'",
     "output_type": "error",
     "traceback": [
      "\u001b[1;31m---------------------------------------------------------------------------\u001b[0m",
      "\u001b[1;31mAttributeError\u001b[0m                            Traceback (most recent call last)",
      "\u001b[1;32m~\\AppData\\Local\\Temp\\ipykernel_13844\\2587757015.py\u001b[0m in \u001b[0;36m<module>\u001b[1;34m\u001b[0m\n\u001b[1;32m----> 1\u001b[1;33m \u001b[0mdefaulters\u001b[0m\u001b[1;33m=\u001b[0m\u001b[0mdata\u001b[0m\u001b[1;33m.\u001b[0m\u001b[0mRisk_Flag\u001b[0m\u001b[1;33m.\u001b[0m\u001b[0msum\u001b[0m\u001b[1;33m(\u001b[0m\u001b[1;33m)\u001b[0m\u001b[1;33m\u001b[0m\u001b[1;33m\u001b[0m\u001b[0m\n\u001b[0m\u001b[0;32m      2\u001b[0m \u001b[0mtotal\u001b[0m\u001b[1;33m=\u001b[0m\u001b[0mlen\u001b[0m\u001b[1;33m(\u001b[0m\u001b[0mdata\u001b[0m\u001b[1;33m.\u001b[0m\u001b[0mRisk_Flag\u001b[0m\u001b[1;33m)\u001b[0m\u001b[1;33m\u001b[0m\u001b[1;33m\u001b[0m\u001b[0m\n\u001b[0;32m      3\u001b[0m \u001b[0mrate_of_default\u001b[0m\u001b[1;33m=\u001b[0m\u001b[0mdefaulters\u001b[0m\u001b[1;33m/\u001b[0m\u001b[0mtotal\u001b[0m\u001b[1;33m\u001b[0m\u001b[1;33m\u001b[0m\u001b[0m\n\u001b[0;32m      4\u001b[0m \u001b[0mprint\u001b[0m\u001b[1;33m(\u001b[0m\u001b[1;34m'The total number of defaulters are'\u001b[0m\u001b[1;33m,\u001b[0m\u001b[0mdefaulters\u001b[0m\u001b[1;33m,\u001b[0m\u001b[1;34m'and the percent of defaulters is '\u001b[0m\u001b[1;33m,\u001b[0m\u001b[0mrate_of_default\u001b[0m\u001b[1;33m*\u001b[0m\u001b[1;36m100\u001b[0m\u001b[1;33m,\u001b[0m\u001b[1;34m'%'\u001b[0m\u001b[1;33m)\u001b[0m\u001b[1;33m\u001b[0m\u001b[1;33m\u001b[0m\u001b[0m\n\u001b[0;32m      5\u001b[0m \u001b[1;33m\u001b[0m\u001b[0m\n",
      "\u001b[1;32m~\\anaconda3\\lib\\site-packages\\pandas\\core\\generic.py\u001b[0m in \u001b[0;36m__getattr__\u001b[1;34m(self, name)\u001b[0m\n\u001b[0;32m   5573\u001b[0m         ):\n\u001b[0;32m   5574\u001b[0m             \u001b[1;32mreturn\u001b[0m \u001b[0mself\u001b[0m\u001b[1;33m[\u001b[0m\u001b[0mname\u001b[0m\u001b[1;33m]\u001b[0m\u001b[1;33m\u001b[0m\u001b[1;33m\u001b[0m\u001b[0m\n\u001b[1;32m-> 5575\u001b[1;33m         \u001b[1;32mreturn\u001b[0m \u001b[0mobject\u001b[0m\u001b[1;33m.\u001b[0m\u001b[0m__getattribute__\u001b[0m\u001b[1;33m(\u001b[0m\u001b[0mself\u001b[0m\u001b[1;33m,\u001b[0m \u001b[0mname\u001b[0m\u001b[1;33m)\u001b[0m\u001b[1;33m\u001b[0m\u001b[1;33m\u001b[0m\u001b[0m\n\u001b[0m\u001b[0;32m   5576\u001b[0m \u001b[1;33m\u001b[0m\u001b[0m\n\u001b[0;32m   5577\u001b[0m     \u001b[1;32mdef\u001b[0m \u001b[0m__setattr__\u001b[0m\u001b[1;33m(\u001b[0m\u001b[0mself\u001b[0m\u001b[1;33m,\u001b[0m \u001b[0mname\u001b[0m\u001b[1;33m:\u001b[0m \u001b[0mstr\u001b[0m\u001b[1;33m,\u001b[0m \u001b[0mvalue\u001b[0m\u001b[1;33m)\u001b[0m \u001b[1;33m->\u001b[0m \u001b[1;32mNone\u001b[0m\u001b[1;33m:\u001b[0m\u001b[1;33m\u001b[0m\u001b[1;33m\u001b[0m\u001b[0m\n",
      "\u001b[1;31mAttributeError\u001b[0m: 'DataFrame' object has no attribute 'Risk_Flag'"
     ]
    }
   ],
   "source": [
    "defaulters=data.Risk_Flag.sum()\n",
    "total=len(data.Risk_Flag)\n",
    "rate_of_default=defaulters/total\n",
    "print('The total number of defaulters are',defaulters,'and the percent of defaulters is ',rate_of_default*100,'%')\n",
    "\n",
    "f,ax=plt.subplots(1,2,figsize=(12,6))\n",
    "a=data.Risk_Flag.value_counts()\n",
    "a.plot.pie(autopct= \"%1.f%%\",shadow=True,explode=[0,0.2],ax=ax[0],colors=['#FFEFDB','#7FFFD4'])\n",
    "\n",
    "sns.countplot(x=\"Risk_Flag\",data=data,ax=ax[1])\n",
    "\n"
   ]
  },
  {
   "cell_type": "code",
   "execution_count": null,
   "id": "edd67002",
   "metadata": {},
   "outputs": [],
   "source": [
    "b=data['Married/Single'].value_counts()\n",
    "print(b)\n",
    "crosstab1=pd.crosstab(data['Risk_Flag'],data['Married/Single'],margins=True)\n",
    "crosstab1\n"
   ]
  },
  {
   "cell_type": "code",
   "execution_count": null,
   "id": "9e409fa2",
   "metadata": {},
   "outputs": [],
   "source": [
    "married_defaulters=2636/25728\n",
    "Single_defaulters=28360/226272\n",
    "print(married_defaulters*100)\n",
    "print(Single_defaulters*100)"
   ]
  },
  {
   "cell_type": "code",
   "execution_count": null,
   "id": "98752332",
   "metadata": {},
   "outputs": [],
   "source": [
    "f,ax=plt.subplots(1,2,figsize=(18,8))\n",
    "data['Married/Single'].value_counts().plot.bar(ax=ax[0])\n",
    "sns.countplot(x=data['Married/Single'],hue=data['Risk_Flag'],ax=ax[1],palette='Accent_r')"
   ]
  },
  {
   "cell_type": "code",
   "execution_count": null,
   "id": "0baeed92",
   "metadata": {},
   "outputs": [],
   "source": [
    "print('Number of unique professions in the dataset are',data['Profession'].nunique())"
   ]
  },
  {
   "cell_type": "code",
   "execution_count": null,
   "id": "3217249f",
   "metadata": {},
   "outputs": [],
   "source": [
    "plt.subplots(figsize=(18,9))\n",
    "data.Profession.value_counts().plot.bar(color='brown')\n",
    "plt.show()\n",
    "crosstab2=pd.crosstab(data['Profession'],data['Risk_Flag'],margins=True)\n",
    "crosstab2.sort_values(by=1,ascending=False).head()"
   ]
  },
  {
   "cell_type": "code",
   "execution_count": null,
   "id": "eaaea47f",
   "metadata": {},
   "outputs": [],
   "source": [
    "## Here in the above crosstab we can see that the maximum loan is taken by physicians while police_officers are the ones who defaulted the most"
   ]
  },
  {
   "cell_type": "code",
   "execution_count": null,
   "id": "d3d00e79",
   "metadata": {},
   "outputs": [],
   "source": [
    "data.House_Ownership.value_counts()"
   ]
  },
  {
   "cell_type": "code",
   "execution_count": null,
   "id": "a809c131",
   "metadata": {},
   "outputs": [],
   "source": [
    "f,ax=plt.subplots(1,2,figsize=(18,8))\n",
    "data.House_Ownership.value_counts().plot.bar(color='orchid',ax=ax[0])\n",
    "sns.countplot(x=data.House_Ownership,hue=data.Risk_Flag,palette=['Purples'])"
   ]
  },
  {
   "cell_type": "code",
   "execution_count": null,
   "id": "16c9d715",
   "metadata": {},
   "outputs": [],
   "source": [
    "data.Car_Ownership.value_counts()"
   ]
  },
  {
   "cell_type": "code",
   "execution_count": null,
   "id": "840e9c8d",
   "metadata": {},
   "outputs": [],
   "source": [
    "f,ax=plt.subplots(1,2,figsize=(18,8))\n",
    "data.Car_Ownership.value_counts().plot.bar(ax=ax[0])\n",
    "sns.countplot(x=data.Car_Ownership,hue=data.Risk_Flag,palette='Accent_r')"
   ]
  },
  {
   "cell_type": "code",
   "execution_count": null,
   "id": "34d1a9cd",
   "metadata": {},
   "outputs": [],
   "source": [
    "crosstab3=pd.crosstab(data.Car_Ownership,data.Risk_Flag,margins=True)\n",
    "crosstab3"
   ]
  },
  {
   "cell_type": "code",
   "execution_count": null,
   "id": "d4ffc47a",
   "metadata": {},
   "outputs": [],
   "source": [
    "print('Number of defaulters who own a car ',8435/76000*100,'%')\n",
    "print('Number of deafulters who do not own a car',22561/176000*100,'%')"
   ]
  },
  {
   "cell_type": "code",
   "execution_count": null,
   "id": "8a0a8dbf",
   "metadata": {},
   "outputs": [],
   "source": [
    "sns.catplot(x='House_Ownership',y='Risk_Flag',hue='Car_Ownership',data=data,kind='point')"
   ]
  },
  {
   "cell_type": "code",
   "execution_count": null,
   "id": "b7d08cc0",
   "metadata": {},
   "outputs": [],
   "source": [
    "data.STATE.nunique(),data.CITY.nunique()"
   ]
  },
  {
   "cell_type": "code",
   "execution_count": null,
   "id": "40468278",
   "metadata": {},
   "outputs": [],
   "source": [
    "##There are 317 citys and they are a subset of state having count 29."
   ]
  },
  {
   "cell_type": "code",
   "execution_count": null,
   "id": "849c7597",
   "metadata": {},
   "outputs": [],
   "source": [
    "crosstab4=pd.crosstab(data.STATE,data.Risk_Flag,margins=True)\n",
    "crosstab4.head()"
   ]
  },
  {
   "cell_type": "code",
   "execution_count": null,
   "id": "677d51d5",
   "metadata": {},
   "outputs": [],
   "source": [
    "percent_defaulters_State=crosstab4[1]/crosstab4['All']*100\n",
    "percent_defaulters_State.sort_values(ascending=False)"
   ]
  },
  {
   "cell_type": "code",
   "execution_count": null,
   "id": "91f3c41d",
   "metadata": {},
   "outputs": [],
   "source": [
    "## This give us an idea that the percent of deafulters is most in manipur State"
   ]
  },
  {
   "cell_type": "code",
   "execution_count": null,
   "id": "5c2e3430",
   "metadata": {},
   "outputs": [],
   "source": [
    "crosstab5=pd.crosstab(data.CITY,data.Risk_Flag,margins=True)\n",
    "crosstab5.sort_values(by=1,ascending=False)"
   ]
  },
  {
   "cell_type": "code",
   "execution_count": null,
   "id": "24dff066",
   "metadata": {},
   "outputs": [],
   "source": [
    "(crosstab5[1]/crosstab5['All']*100).sort_values(ascending=False).head()"
   ]
  },
  {
   "cell_type": "code",
   "execution_count": null,
   "id": "5d996fbe",
   "metadata": {},
   "outputs": [],
   "source": [
    "data.STATE[data.CITY=='Bhubaneswar'].value_counts()"
   ]
  },
  {
   "cell_type": "code",
   "execution_count": null,
   "id": "dd2fa2da",
   "metadata": {},
   "outputs": [],
   "source": [
    "##Interesting thing is Bhubaneswar is city that have 32% of default rate, \n",
    "##while Odisha is state that Bhubaneswar is in but only have 14% of default rate."
   ]
  },
  {
   "cell_type": "code",
   "execution_count": null,
   "id": "ef50b456",
   "metadata": {},
   "outputs": [],
   "source": [
    "##now we we find out the reate of defaulters state wise"
   ]
  },
  {
   "cell_type": "code",
   "execution_count": null,
   "id": "f4f8dbac",
   "metadata": {},
   "outputs": [],
   "source": [
    "plt.figure(figsize=(18,8))\n",
    "rate_defaulters_statewise=crosstab4[1]/crosstab4['All']*100\n",
    "rate_defaulters_statewise.plot.bar(color='aquamarine')"
   ]
  },
  {
   "cell_type": "code",
   "execution_count": null,
   "id": "6dc6b114",
   "metadata": {},
   "outputs": [],
   "source": [
    "##Overall Manipur is the state with Highest default rate(21%)\n",
    "##2) Bhubaneshwar is city with default rate of 32% "
   ]
  },
  {
   "cell_type": "code",
   "execution_count": null,
   "id": "58af98ad",
   "metadata": {},
   "outputs": [],
   "source": [
    "print('Highest Income is:',data.Income.max())\n",
    "print('Lowest Income is:',data.Income.min())\n",
    "print('Average Income is:',data.Income.mean())"
   ]
  },
  {
   "cell_type": "code",
   "execution_count": null,
   "id": "030a5dd7",
   "metadata": {},
   "outputs": [],
   "source": [
    "f,ax=plt.subplots(1,2,figsize=(18,8))\n",
    "sns.histplot(data.Income,ax=ax[0],kde=True)\n",
    "sns.boxplot(data.Income,ax=ax[1],orient='h')\n",
    "## the histogram and KDE provide a comprehensive view of the data distribution. \n",
    "## We can see the general shape and features of the distribution\n",
    "## Here through the boxplot we can interpret that there is no outlier in income\n"
   ]
  },
  {
   "cell_type": "code",
   "execution_count": null,
   "id": "052a5e33",
   "metadata": {},
   "outputs": [],
   "source": [
    "print('Highest age is:',data.Age.max())\n",
    "print('Lowest age is:',data.Age.min())\n",
    "print('Average age is:',round(data.Age.mean()))"
   ]
  },
  {
   "cell_type": "code",
   "execution_count": null,
   "id": "a7f65bad",
   "metadata": {},
   "outputs": [],
   "source": [
    "f, ax = plt.subplots(1,2,figsize=(18,8))\n",
    "sns.histplot(data.Age, ax=ax[0],kde=True);\n",
    "sns.boxplot(data.Age, ax=ax[1],orient='h');"
   ]
  },
  {
   "cell_type": "code",
   "execution_count": null,
   "id": "3d46b75e",
   "metadata": {},
   "outputs": [],
   "source": [
    "## From the boxplot we can interpret that the desnity"
   ]
  },
  {
   "cell_type": "code",
   "execution_count": null,
   "id": "98a5193b",
   "metadata": {},
   "outputs": [],
   "source": [
    "pd.crosstab(data.Experience,data.Risk_Flag,  margins=True)"
   ]
  },
  {
   "cell_type": "code",
   "execution_count": null,
   "id": "c0e2453d",
   "metadata": {},
   "outputs": [],
   "source": [
    "\n",
    "pd.crosstab(data.Experience, data.Risk_Flag).plot.bar(width=0.9).set(title=\"Number of loan takers acoording to Experience\");\n",
    "sns.catplot(x=\"Experience\", y=\"Risk_Flag\", data=data,kind='point').set(title=\"Default rate vs Experience\")"
   ]
  },
  {
   "cell_type": "code",
   "execution_count": null,
   "id": "0e7c1b7c",
   "metadata": {},
   "outputs": [],
   "source": [
    "pd.crosstab(data.CURRENT_JOB_YRS,data.Risk_Flag )"
   ]
  },
  {
   "cell_type": "code",
   "execution_count": null,
   "id": "8dcc9da1",
   "metadata": {},
   "outputs": [],
   "source": [
    "pd.crosstab(data.CURRENT_JOB_YRS ,data.Risk_Flag ).plot.bar(width=0.8).set(title=\"Number of loan taken based on current job years\")\n",
    "sns.catplot(x=\"CURRENT_JOB_YRS\", y=\"Risk_Flag\", data=data,kind='point').set(title=\"Default rate vs Current Job Years\");"
   ]
  },
  {
   "cell_type": "code",
   "execution_count": null,
   "id": "904d0ffd",
   "metadata": {},
   "outputs": [],
   "source": [
    "pd.crosstab(data.CURRENT_HOUSE_YRS,data.Risk_Flag,margins=True )\n"
   ]
  },
  {
   "cell_type": "code",
   "execution_count": null,
   "id": "6168f61f",
   "metadata": {},
   "outputs": [],
   "source": [
    "pd.crosstab(data.CURRENT_HOUSE_YRS ,data.Risk_Flag ).plot.bar().set(title=\"Number of loan takers according to Current House Years\")\n",
    "sns.catplot(x=\"CURRENT_HOUSE_YRS\", y=\"Risk_Flag\", data=data,kind='point').set(title=\"Default rate vs Current House Years\");"
   ]
  },
  {
   "cell_type": "code",
   "execution_count": null,
   "id": "80181aee",
   "metadata": {},
   "outputs": [],
   "source": [
    "print(data.dtypes)"
   ]
  },
  {
   "cell_type": "code",
   "execution_count": null,
   "id": "9609c141",
   "metadata": {},
   "outputs": [],
   "source": [
    "columns_to_plot=['Id','Income','Age','Experience','CURRENT_JOB_YRS','CURRENT_HOUSE_YRS','Risk_Flag']\n",
    "corr_mat=data[columns_to_plot].corr()\n",
    "corr_mat"
   ]
  },
  {
   "cell_type": "code",
   "execution_count": null,
   "id": "f698969a",
   "metadata": {},
   "outputs": [],
   "source": [
    "sns.heatmap(corr_mat,cmap='Accent_r',annot=True)"
   ]
  },
  {
   "cell_type": "code",
   "execution_count": null,
   "id": "4828f38a",
   "metadata": {},
   "outputs": [],
   "source": [
    "data[\"Age_band\"] = 0\n",
    "data.loc[(data[\"Age\"] >= 21) & (data[\"Age\"] <= 33), \"Age_band\"] = 0\n",
    "data.loc[(data[\"Age\"] > 33) & (data[\"Age\"] <= 45), \"Age_band\"] = 1\n",
    "data.loc[(data[\"Age\"] > 45) & (data[\"Age\"] <= 57), \"Age_band\"] = 2\n",
    "data.loc[(data[\"Age\"] > 57) & (data[\"Age\"] <= 69), \"Age_band\"] = 3\n",
    "data.loc[(data[\"Age\"] > 69) & (data[\"Age\"] <= 79), \"Age_band\"] = 4"
   ]
  },
  {
   "cell_type": "code",
   "execution_count": null,
   "id": "d3acd57d",
   "metadata": {},
   "outputs": [],
   "source": [
    "data['Age_band'].value_counts().to_frame().style.background_gradient(cmap='Accent')"
   ]
  },
  {
   "cell_type": "code",
   "execution_count": null,
   "id": "c63f3020",
   "metadata": {},
   "outputs": [],
   "source": [
    "sns.catplot(x='Age_band',y='Risk_Flag',data=data,kind='point')"
   ]
  },
  {
   "cell_type": "code",
   "execution_count": null,
   "id": "10034935",
   "metadata": {},
   "outputs": [],
   "source": [
    "## From the catplot we can interpret that the age_band of 21-33 are the most risky group to give loan \n",
    "## As the age increasses the Risk of giving loans becomes less"
   ]
  },
  {
   "cell_type": "code",
   "execution_count": null,
   "id": "d8711848",
   "metadata": {},
   "outputs": [],
   "source": [
    "## As the data is continuous we define income ranges using quantiles/"
   ]
  },
  {
   "cell_type": "code",
   "execution_count": null,
   "id": "e8ef2d08",
   "metadata": {},
   "outputs": [],
   "source": [
    "data['Income_range']=pd.qcut(data['Income'],4)\n",
    "data.groupby(['Income_range'])['Risk_Flag'].mean().to_frame()"
   ]
  },
  {
   "cell_type": "code",
   "execution_count": null,
   "id": "70106735",
   "metadata": {},
   "outputs": [],
   "source": [
    "data['Income_cat'] = 0\n",
    "data.loc[(data[\"Income\"] >= 103010)&(data[\"Income\"] <= 2503015), \"Income_cat\"]=0\n",
    "data.loc[(data[\"Income\"] > 2503015)&(data[\"Income\"] <= 5000694.5), \"Income_cat\"]=1\n",
    "data.loc[(data[\"Income\"] > 5000694.5)&(data[\"Income\"] <= 7477502), \"Income_cat\"]=2\n",
    "data.loc[(data[\"Income\"] > 7477502)&(data[\"Income\"] <= 9999938), \"Income_cat\"]=3"
   ]
  },
  {
   "cell_type": "code",
   "execution_count": null,
   "id": "10a0c210",
   "metadata": {},
   "outputs": [],
   "source": [
    "sns.catplot(x=\"Income_cat\",y= \"Risk_Flag\", data=data, hue=\"Car_Ownership\",kind='point')"
   ]
  },
  {
   "cell_type": "code",
   "execution_count": null,
   "id": "5006e173",
   "metadata": {},
   "outputs": [],
   "source": [
    "## People in income_category 0 default the most ,may they be owner of the car or not and one more observation shows that people\n",
    "##people with no car in the high income category default the most"
   ]
  },
  {
   "cell_type": "code",
   "execution_count": null,
   "id": "c62c319d",
   "metadata": {},
   "outputs": [],
   "source": [
    "##There is multicolinearity between Current job years & Experience so one of them can be removed and the people with \n",
    "## current job years seems important factor for the loan analysis than experience"
   ]
  },
  {
   "cell_type": "code",
   "execution_count": null,
   "id": "dd222556",
   "metadata": {},
   "outputs": [],
   "source": [
    "sns.countplot(x=\"Risk_Flag\",data=data)\n",
    "data.Risk_Flag.value_counts()"
   ]
  },
  {
   "cell_type": "code",
   "execution_count": null,
   "id": "e5269fb9",
   "metadata": {},
   "outputs": [],
   "source": [
    "train_data=data"
   ]
  },
  {
   "cell_type": "code",
   "execution_count": null,
   "id": "ea933a72",
   "metadata": {},
   "outputs": [],
   "source": [
    "train_data.drop([ \"Income\", \"Income_range\", \"Age\", \"Experience\"], axis=1, inplace=True)"
   ]
  },
  {
   "cell_type": "code",
   "execution_count": null,
   "id": "04452c3b",
   "metadata": {},
   "outputs": [],
   "source": [
    "## As we have categorical data we first transform it into numerical one"
   ]
  },
  {
   "cell_type": "code",
   "execution_count": null,
   "id": "105b26ba",
   "metadata": {},
   "outputs": [],
   "source": [
    "from sklearn.preprocessing import LabelEncoder"
   ]
  },
  {
   "cell_type": "code",
   "execution_count": null,
   "id": "168213b9",
   "metadata": {},
   "outputs": [],
   "source": [
    "\n",
    "columns=['Married/Single','House_Ownership','Car_Ownership','Profession','CITY','STATE']\n",
    "le=LabelEncoder()\n",
    "\n",
    "for x in columns:\n",
    "    train_data[x]=le.fit_transform(train_data[x])"
   ]
  },
  {
   "cell_type": "code",
   "execution_count": null,
   "id": "1a676ae7",
   "metadata": {},
   "outputs": [],
   "source": [
    "sns.heatmap(train_data.corr(), annot=True, linewidth=0.2, annot_kws={\"size\":20}, cmap=\"Blues\")\n",
    "fig = plt.gcf()\n",
    "fig.set_size_inches(20,10)\n",
    "\n"
   ]
  },
  {
   "cell_type": "code",
   "execution_count": null,
   "id": "ab19ccb2",
   "metadata": {},
   "outputs": [],
   "source": [
    "## It is correlation between th categorical variables which we transformed to numerical values\n"
   ]
  },
  {
   "cell_type": "markdown",
   "id": "9a028164",
   "metadata": {},
   "source": [
    "## Predictive Model"
   ]
  },
  {
   "cell_type": "code",
   "execution_count": null,
   "id": "43ee2ce8",
   "metadata": {},
   "outputs": [],
   "source": [
    "train_data.head()"
   ]
  },
  {
   "cell_type": "code",
   "execution_count": null,
   "id": "9377352b",
   "metadata": {},
   "outputs": [],
   "source": [
    "from sklearn.model_selection import train_test_split\n",
    "x = train_data.drop('Risk_Flag', axis=1)\n",
    "y = train_data['Risk_Flag']"
   ]
  },
  {
   "cell_type": "code",
   "execution_count": null,
   "id": "fe4f9107",
   "metadata": {},
   "outputs": [],
   "source": [
    "y = train_data['Risk_Flag']"
   ]
  },
  {
   "cell_type": "code",
   "execution_count": null,
   "id": "09a7a336",
   "metadata": {},
   "outputs": [],
   "source": [
    "train_x, test_x, train_y, test_y = train_test_split(x, y, test_size=0.3, random_state=42, stratify=train_data.Risk_Flag)"
   ]
  },
  {
   "cell_type": "code",
   "execution_count": null,
   "id": "936a18be",
   "metadata": {},
   "outputs": [],
   "source": [
    "import warnings\n",
    "warnings.filterwarnings(\"ignore\")"
   ]
  },
  {
   "cell_type": "markdown",
   "id": "2156c22d",
   "metadata": {},
   "source": [
    "##  LogisticRegression"
   ]
  },
  {
   "cell_type": "code",
   "execution_count": null,
   "id": "4f94184e",
   "metadata": {},
   "outputs": [],
   "source": [
    "from sklearn.linear_model import LogisticRegression\n",
    "from sklearn import metrics\n",
    "from sklearn.metrics import classification_report\n",
    "\n",
    "model1=LogisticRegression()\n",
    "model1.fit(x,y)\n",
    "predict1=model1.predict(test_x)\n"
   ]
  },
  {
   "cell_type": "code",
   "execution_count": null,
   "id": "34299faa",
   "metadata": {},
   "outputs": [],
   "source": [
    "predicted_riskflag=pd.DataFrame(predict1)\n",
    "predicted_riskflag.value_counts()"
   ]
  },
  {
   "cell_type": "code",
   "execution_count": null,
   "id": "43bd6b79",
   "metadata": {},
   "outputs": [],
   "source": [
    "from sklearn.metrics import confusion_matrix"
   ]
  },
  {
   "cell_type": "code",
   "execution_count": null,
   "id": "14e398dc",
   "metadata": {},
   "outputs": [],
   "source": [
    "metrics.accuracy_score(predicted_riskflag, test_y)"
   ]
  },
  {
   "cell_type": "code",
   "execution_count": null,
   "id": "7c1aa0a7",
   "metadata": {},
   "outputs": [],
   "source": [
    "print(classification_report(test_y, predict1))"
   ]
  },
  {
   "cell_type": "code",
   "execution_count": null,
   "id": "d8d3e684",
   "metadata": {},
   "outputs": [],
   "source": [
    "confusion_mat=confusion_matrix(test_y,predict1)\n",
    "sns.heatmap(confusion_mat, annot=True, fmt='d', cmap='Blues',\n",
    "            xticklabels=['Predicted 0', 'Predicted 1'],\n",
    "            yticklabels=['Actual 0', 'Actual 1'])\n",
    "plt.xlabel('Predicted')\n",
    "plt.ylabel('Actual')\n",
    "plt.title('Confusion Matrix')"
   ]
  },
  {
   "cell_type": "code",
   "execution_count": null,
   "id": "15ce22de",
   "metadata": {},
   "outputs": [],
   "source": [
    "from sklearn.metrics import roc_curve, roc_auc_score, auc\n",
    "y_probs_rf = model1.predict_proba(test_x)[:, 1]\n",
    "\n",
    "# Calculate ROC curve and AUC\n",
    "fpr_rf, tpr_rf, thresholds_rf = roc_curve(test_y, y_probs_rf)\n",
    "roc_auc_rf = auc(fpr_rf, tpr_rf)\n",
    "\n",
    "# Plot ROC curve\n",
    "plt.plot(fpr_rf, tpr_rf, color='darkorange', lw=2, label=f'ROC curve (AUC = {roc_auc_rf:.2f})')\n",
    "plt.plot([0, 1], [0, 1], color='navy', lw=2, linestyle='--', label='Random Guess')\n",
    "plt.xlabel('False Positive Rate')\n",
    "plt.ylabel('True Positive Rate')\n",
    "plt.title('Receiver Operating Characteristic (ROC) Curve - LogisticRegression')\n",
    "plt.legend(loc='lower right')"
   ]
  },
  {
   "cell_type": "markdown",
   "id": "6325cbc4",
   "metadata": {},
   "source": [
    "## KNN"
   ]
  },
  {
   "cell_type": "code",
   "execution_count": null,
   "id": "af6b979f",
   "metadata": {},
   "outputs": [],
   "source": [
    "from sklearn.neighbors import KNeighborsClassifier\n",
    "\n",
    "model2= KNeighborsClassifier()\n",
    "model2.fit(train_x, train_y)\n",
    "predict2= model2.predict(test_x)\n"
   ]
  },
  {
   "cell_type": "code",
   "execution_count": null,
   "id": "6ebe937c",
   "metadata": {},
   "outputs": [],
   "source": [
    "a=pd.DataFrame(predict2)\n",
    "pd.DataFrame(predict2).value_counts()\n"
   ]
  },
  {
   "cell_type": "code",
   "execution_count": null,
   "id": "3fa1dff0",
   "metadata": {},
   "outputs": [],
   "source": [
    "print(classification_report(test_y, predict2))"
   ]
  },
  {
   "cell_type": "code",
   "execution_count": null,
   "id": "f4e3ac75",
   "metadata": {},
   "outputs": [],
   "source": [
    "confusion_mat=confusion_matrix(test_y,predict2)\n",
    "sns.heatmap(confusion_mat, annot=True, fmt='d', cmap='Blues',\n",
    "            xticklabels=['Predicted 0', 'Predicted 1'],\n",
    "            yticklabels=['Actual 0', 'Actual 1'])\n",
    "plt.xlabel('Predicted')\n",
    "plt.ylabel('Actual')\n",
    "plt.title('Confusion Matrix')"
   ]
  },
  {
   "cell_type": "code",
   "execution_count": null,
   "id": "c9545155",
   "metadata": {},
   "outputs": [],
   "source": [
    "y_probs_rf = model2.predict_proba(test_x)[:, 1]\n",
    "\n",
    "# Calculate ROC curve and AUC\n",
    "fpr_rf, tpr_rf, thresholds_rf = roc_curve(test_y, y_probs_rf)\n",
    "roc_auc_rf = auc(fpr_rf, tpr_rf)\n",
    "\n",
    "# Plot ROC curve\n",
    "plt.plot(fpr_rf, tpr_rf, color='darkorange', lw=2, label=f'ROC curve (AUC = {roc_auc_rf:.2f})')\n",
    "plt.plot([0, 1], [0, 1], color='navy', lw=2, linestyle='--', label='Random Guess')\n",
    "plt.xlabel('False Positive Rate')\n",
    "plt.ylabel('True Positive Rate')\n",
    "plt.title('Receiver Operating Characteristic (ROC) Curve - KNN')\n",
    "plt.legend(loc='lower right')"
   ]
  },
  {
   "cell_type": "code",
   "execution_count": null,
   "id": "ea18d3ce",
   "metadata": {},
   "outputs": [],
   "source": [
    "62457/75600*100,4738/75600*100"
   ]
  },
  {
   "cell_type": "markdown",
   "id": "be11b5f0",
   "metadata": {},
   "source": [
    "## RandomForestClassifier"
   ]
  },
  {
   "cell_type": "code",
   "execution_count": null,
   "id": "769e58a0",
   "metadata": {},
   "outputs": [],
   "source": [
    "from sklearn.ensemble import RandomForestClassifier\n",
    "\n",
    "model3= RandomForestClassifier(random_state=1, n_estimators = 50)\n",
    "model3.fit(train_x, train_y)\n",
    "predict3 = model3.predict(test_x)\n",
    "predict3\n"
   ]
  },
  {
   "cell_type": "code",
   "execution_count": null,
   "id": "9ec3e835",
   "metadata": {},
   "outputs": [],
   "source": [
    "predict3=pd.DataFrame(predict3)\n",
    "predict3.value_counts()\n"
   ]
  },
  {
   "cell_type": "code",
   "execution_count": null,
   "id": "d986b4dd",
   "metadata": {},
   "outputs": [],
   "source": [
    "print(classification_report(test_y, predict3))"
   ]
  },
  {
   "cell_type": "code",
   "execution_count": null,
   "id": "9e3b165f",
   "metadata": {},
   "outputs": [],
   "source": [
    "\n",
    "confusion_mat=confusion_matrix(test_y,predict3)\n",
    "sns.heatmap(confusion_mat, annot=True, fmt='d', cmap='Blues', \n",
    "            xticklabels=['Predicted 0', 'Predicted 1'],\n",
    "            yticklabels=['Actual 0', 'Actual 1'])\n",
    "plt.xlabel('Predicted')\n",
    "plt.ylabel('Actual')\n",
    "plt.title('Confusion Matrix')\n"
   ]
  },
  {
   "cell_type": "code",
   "execution_count": null,
   "id": "e0b9258d",
   "metadata": {},
   "outputs": [],
   "source": [
    "y_probs_rf = model3.predict_proba(test_x)[:, 1]\n",
    "\n",
    "# Calculate ROC curve and AUC\n",
    "fpr_rf, tpr_rf, thresholds_rf = roc_curve(test_y, y_probs_rf)\n",
    "roc_auc_rf = auc(fpr_rf, tpr_rf)\n",
    "\n",
    "# Plot ROC curve\n",
    "plt.plot(fpr_rf, tpr_rf, color='darkorange', lw=2, label=f'ROC curve (AUC = {roc_auc_rf:.2f})')\n",
    "plt.plot([0, 1], [0, 1], color='navy', lw=2, linestyle='--', label='Random Guess')\n",
    "plt.xlabel('False Positive Rate')\n",
    "plt.ylabel('True Positive Rate')\n",
    "plt.title('Receiver Operating Characteristic (ROC) Curve - RandomForestClassifier')\n",
    "plt.legend(loc='lower right')"
   ]
  },
  {
   "cell_type": "code",
   "execution_count": null,
   "id": "59d44c26",
   "metadata": {},
   "outputs": [],
   "source": [
    "64438/75600*100,3933/75600*100"
   ]
  },
  {
   "cell_type": "markdown",
   "id": "97c93bab",
   "metadata": {},
   "source": [
    "## Decision tree"
   ]
  },
  {
   "cell_type": "code",
   "execution_count": null,
   "id": "8d1d52d5",
   "metadata": {},
   "outputs": [],
   "source": [
    "from sklearn.tree import DecisionTreeClassifier\n",
    "\n",
    "model4= DecisionTreeClassifier(random_state=420)\n",
    "model4.fit(train_x, train_y)\n",
    "predict4 = model4.predict(test_x)\n"
   ]
  },
  {
   "cell_type": "code",
   "execution_count": null,
   "id": "8b649a08",
   "metadata": {},
   "outputs": [],
   "source": [
    "pd.DataFrame(predict4).value_counts()"
   ]
  },
  {
   "cell_type": "code",
   "execution_count": null,
   "id": "eeb43faa",
   "metadata": {},
   "outputs": [],
   "source": [
    "print(classification_report(test_y, predict4))"
   ]
  },
  {
   "cell_type": "code",
   "execution_count": null,
   "id": "069a3fdf",
   "metadata": {},
   "outputs": [],
   "source": [
    "confusion_mat=confusion_matrix(test_y,predict4)\n",
    "sns.heatmap(confusion_mat, annot=True, fmt='d', cmap='Blues', \n",
    "            xticklabels=['Predicted 0', 'Predicted 1'],\n",
    "            yticklabels=['Actual 0', 'Actual 1'])\n",
    "plt.xlabel('Predicted')\n",
    "plt.ylabel('Actual')\n",
    "plt.title('Confusion Matrix')\n"
   ]
  },
  {
   "cell_type": "code",
   "execution_count": null,
   "id": "32d89e26",
   "metadata": {},
   "outputs": [],
   "source": [
    "y_probs_rf = model4.predict_proba(test_x)[:, 1]\n",
    "\n",
    "# Calculate ROC curve and AUC\n",
    "fpr_rf, tpr_rf, thresholds_rf = roc_curve(test_y, y_probs_rf)\n",
    "roc_auc_rf = auc(fpr_rf, tpr_rf)\n",
    "\n",
    "# Plot ROC curve\n",
    "plt.plot(fpr_rf, tpr_rf, color='darkorange', lw=2, label=f'ROC curve (AUC = {roc_auc_rf:.2f})')\n",
    "plt.plot([0, 1], [0, 1], color='navy', lw=2, linestyle='--', label='Random Guess')\n",
    "plt.xlabel('False Positive Rate')\n",
    "plt.ylabel('True Positive Rate')\n",
    "plt.title('Receiver Operating Characteristic (ROC) Curve - DecisionTree')\n",
    "plt.legend(loc='lower right')"
   ]
  },
  {
   "cell_type": "markdown",
   "id": "89644efc",
   "metadata": {},
   "source": [
    "## Xg Boost Classifier"
   ]
  },
  {
   "cell_type": "code",
   "execution_count": null,
   "id": "34f2fc1c",
   "metadata": {},
   "outputs": [],
   "source": [
    "from xgboost import XGBClassifier\n",
    "\n",
    "model5= XGBClassifier()\n",
    "model5.fit(train_x, train_y)\n",
    "predict5 = model5.predict(test_x)\n",
    "predict5\n"
   ]
  },
  {
   "cell_type": "code",
   "execution_count": null,
   "id": "48978904",
   "metadata": {},
   "outputs": [],
   "source": [
    "pd.DataFrame(predict5).value_counts()"
   ]
  },
  {
   "cell_type": "code",
   "execution_count": null,
   "id": "bbc68cc8",
   "metadata": {},
   "outputs": [],
   "source": [
    "print(classification_report(test_y, predict5))"
   ]
  },
  {
   "cell_type": "code",
   "execution_count": null,
   "id": "919ccaed",
   "metadata": {},
   "outputs": [],
   "source": [
    "confusion_mat=confusion_matrix(test_y,predict5)\n",
    "sns.heatmap(confusion_mat, annot=True, fmt='d', cmap='Blues', \n",
    "            xticklabels=['Predicted 0', 'Predicted 1'],\n",
    "            yticklabels=['Actual 0', 'Actual 1'])\n",
    "plt.xlabel('Predicted')\n",
    "plt.ylabel('Actual')\n",
    "plt.title('Confusion Matrix')\n"
   ]
  },
  {
   "cell_type": "code",
   "execution_count": null,
   "id": "a2b01b56",
   "metadata": {},
   "outputs": [],
   "source": [
    "y_probs_rf = model5.predict_proba(test_x)[:, 1]\n",
    "\n",
    "# Calculate ROC curve and AUC\n",
    "fpr_rf, tpr_rf, thresholds_rf = roc_curve(test_y, y_probs_rf)\n",
    "roc_auc_rf = auc(fpr_rf, tpr_rf)\n",
    "\n",
    "# Plot ROC curve\n",
    "plt.plot(fpr_rf, tpr_rf, color='darkorange', lw=2, label=f'ROC curve (AUC = {roc_auc_rf:.2f})')\n",
    "plt.plot([0, 1], [0, 1], color='navy', lw=2, linestyle='--', label='Random Guess')\n",
    "plt.xlabel('False Positive Rate')\n",
    "plt.ylabel('True Positive Rate')\n",
    "plt.title('Receiver Operating Characteristic (ROC) Curve - XGboost classifier')\n",
    "plt.legend(loc='lower right')"
   ]
  },
  {
   "cell_type": "code",
   "execution_count": null,
   "id": "ef77c2b1",
   "metadata": {},
   "outputs": [],
   "source": [
    "test_data=pd.read_csv(r\"C:\\Users\\hp\\OneDrive\\Desktop\\Test Data.csv\")\n",
    "test_data.head()"
   ]
  },
  {
   "cell_type": "code",
   "execution_count": null,
   "id": "6464efd6",
   "metadata": {},
   "outputs": [],
   "source": [
    "test_data[\"Age_band\"] = 0\n",
    "test_data.loc[(test_data[\"Age\"] >= 21) & (test_data[\"Age\"] <= 33), \"Age_band\"] = 0\n",
    "test_data.loc[(test_data[\"Age\"] > 33) & (test_data[\"Age\"] <= 45), \"Age_band\"] = 1\n",
    "test_data.loc[(test_data[\"Age\"] > 45) & (test_data[\"Age\"] <= 57), \"Age_band\"] = 2\n",
    "test_data.loc[(test_data[\"Age\"] > 57) & (test_data[\"Age\"] <= 69), \"Age_band\"] = 3\n",
    "test_data.loc[(test_data[\"Age\"] > 69) & (test_data[\"Age\"] <= 79), \"Age_band\"] = 4"
   ]
  },
  {
   "cell_type": "code",
   "execution_count": null,
   "id": "fc6c0d12",
   "metadata": {},
   "outputs": [],
   "source": [
    "test_data['Income_cat'] = 0\n",
    "test_data.loc[(test_data[\"Income\"] >= 103010)&(test_data[\"Income\"] <= 2503015), \"Income_cat\"]=0\n",
    "test_data.loc[(test_data[\"Income\"] > 2503015)&(test_data[\"Income\"] <= 5000694.5), \"Income_cat\"]=1\n",
    "test_data.loc[(test_data[\"Income\"] > 5000694.5)&(test_data[\"Income\"] <= 7477502), \"Income_cat\"]=2\n",
    "test_data.loc[(test_data[\"Income\"] > 7477502)&(test_data[\"Income\"] <= 9999938), \"Income_cat\"]=3"
   ]
  },
  {
   "cell_type": "code",
   "execution_count": null,
   "id": "eca66056",
   "metadata": {},
   "outputs": [],
   "source": [
    "test_data.drop([\"Income\", \"Age\", \"Experience\"], axis=1, inplace=True)"
   ]
  },
  {
   "cell_type": "code",
   "execution_count": null,
   "id": "68d6d9ea",
   "metadata": {},
   "outputs": [],
   "source": [
    "columns=['Married/Single','House_Ownership','Car_Ownership','Profession','CITY','STATE']\n",
    "le=LabelEncoder()\n",
    "\n",
    "for y in columns:\n",
    "    test_data[y]=le.fit_transform(test_data[y])"
   ]
  },
  {
   "cell_type": "markdown",
   "id": "63ca4333",
   "metadata": {},
   "source": [
    "## Predicting the Risk Flag column on test data "
   ]
  },
  {
   "cell_type": "code",
   "execution_count": null,
   "id": "e98b0397",
   "metadata": {},
   "outputs": [],
   "source": [
    "y_pred_prob = model3.predict_proba(test_data)\n",
    "y_pred_prob_data = pd.DataFrame(data=y_pred_prob, columns=['p', 'q'])"
   ]
  },
  {
   "cell_type": "code",
   "execution_count": null,
   "id": "2cd087f3",
   "metadata": {},
   "outputs": [],
   "source": [
    "Response_prediction = test_data[['Id']]\n",
    "y_pred_prob_data['Id'] = Response_prediction['Id']\n",
    "y_pred_prob_data.head()"
   ]
  },
  {
   "cell_type": "code",
   "execution_count": null,
   "id": "fa37183e",
   "metadata": {},
   "outputs": [],
   "source": []
  }
 ],
 "metadata": {
  "kernelspec": {
   "display_name": "Python 3 (ipykernel)",
   "language": "python",
   "name": "python3"
  },
  "language_info": {
   "codemirror_mode": {
    "name": "ipython",
    "version": 3
   },
   "file_extension": ".py",
   "mimetype": "text/x-python",
   "name": "python",
   "nbconvert_exporter": "python",
   "pygments_lexer": "ipython3",
   "version": "3.9.13"
  }
 },
 "nbformat": 4,
 "nbformat_minor": 5
}
